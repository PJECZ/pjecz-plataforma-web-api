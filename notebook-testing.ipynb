{
 "metadata": {
  "language_info": {
   "codemirror_mode": {
    "name": "ipython",
    "version": 3
   },
   "file_extension": ".py",
   "mimetype": "text/x-python",
   "name": "python",
   "nbconvert_exporter": "python",
   "pygments_lexer": "ipython3",
   "version": "3.9.5"
  },
  "orig_nbformat": 2,
  "kernelspec": {
   "name": "python395jvsc74a57bd003b81b4ccfc89d85627589bc917a9b466b569072f2fd0af8762dffc1ba9235c4",
   "display_name": "Python 3.9.5 64-bit ('venv': venv)",
   "language": "python"
  }
 },
 "nbformat": 4,
 "nbformat_minor": 2,
 "cells": [
  {
   "source": [
    "# Pruebas de SQLAlchemy"
   ],
   "cell_type": "markdown",
   "metadata": {}
  },
  {
   "cell_type": "code",
   "execution_count": null,
   "metadata": {},
   "outputs": [],
   "source": [
    "# SQAlchemy\n",
    "from sqlalchemy import create_engine\n",
    "from sqlalchemy.orm import sessionmaker\n",
    "\n",
    "# Cargar configuración\n",
    "from pathlib import Path\n",
    "from config.settings import SQLALCHEMY_DATABASE_URI\n",
    "if Path(\"instance/settings.py\").exists():\n",
    "    from instance.settings import SQLALCHEMY_DATABASE_URI\n",
    "\n",
    "# Crear la sesión a la base de datos\n",
    "engine = create_engine(SQLALCHEMY_DATABASE_URI)\n",
    "session_local = sessionmaker(autocommit=False, autoflush=False, bind=engine)\n"
   ]
  },
  {
   "cell_type": "code",
   "execution_count": null,
   "metadata": {},
   "outputs": [],
   "source": [
    "# Cargar modelos\n",
    "from api.distritos.models import Distrito\n",
    "from api.autoridades.models import Autoridad\n",
    "from api.abogados.models import Abogado\n",
    "from api.peritos.models import Perito\n",
    "from api.edictos.models import Edicto\n",
    "from api.listas_de_acuerdos.models import ListaDeAcuerdo\n",
    "from api.sentencias.models import Sentencia\n",
    "from api.ubicaciones_expedientes.models import UbicacionExpediente"
   ]
  },
  {
   "cell_type": "code",
   "execution_count": null,
   "metadata": {},
   "outputs": [],
   "source": [
    "# Consultar Distritos\n",
    "with session_local() as db:\n",
    "    for distrito in db.query(Distrito).order_by(Distrito.nombre).all():\n",
    "        print(distrito.nombre)"
   ]
  },
  {
   "cell_type": "code",
   "execution_count": null,
   "metadata": {},
   "outputs": [],
   "source": [
    "# Consultar Peritos\n",
    "with session_local() as db:\n",
    "    for perito in db.query(Distrito, Perito).join(Distrito).order_by(Distrito.nombre, Perito.nombre).all():\n",
    "        print(perito.distrito, perito.nombre)"
   ]
  }
 ]
}