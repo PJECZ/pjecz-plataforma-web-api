{
 "metadata": {
  "language_info": {
   "codemirror_mode": {
    "name": "ipython",
    "version": 3
   },
   "file_extension": ".py",
   "mimetype": "text/x-python",
   "name": "python",
   "nbconvert_exporter": "python",
   "pygments_lexer": "ipython3",
   "version": "3.9.5"
  },
  "orig_nbformat": 2,
  "kernelspec": {
   "name": "python395jvsc74a57bd0a1bc2fda1a81936f7231a99c3130b95537b1c23803f85f28ba55f935db4f4ddb",
   "display_name": "Python 3.9.5 64-bit ('venv')"
  },
  "metadata": {
   "interpreter": {
    "hash": "a1bc2fda1a81936f7231a99c3130b95537b1c23803f85f28ba55f935db4f4ddb"
   }
  }
 },
 "nbformat": 4,
 "nbformat_minor": 2,
 "cells": [
  {
   "source": [
    "# Pruebas de SQLAlchemy"
   ],
   "cell_type": "markdown",
   "metadata": {}
  },
  {
   "cell_type": "code",
   "execution_count": 1,
   "metadata": {},
   "outputs": [],
   "source": [
    "# SQAlchemy\n",
    "from sqlalchemy import create_engine\n",
    "from sqlalchemy.orm import sessionmaker\n",
    "\n",
    "# Cargar configuración\n",
    "from pathlib import Path\n",
    "from config.settings import SQLALCHEMY_DATABASE_URI\n",
    "if Path(\"instance/settings.py\").exists():\n",
    "    from instance.settings import SQLALCHEMY_DATABASE_URI\n",
    "\n",
    "# Crear la sesión a la base de datos\n",
    "engine = create_engine(SQLALCHEMY_DATABASE_URI)\n",
    "session_local = sessionmaker(autocommit=False, autoflush=False, bind=engine)\n"
   ]
  },
  {
   "cell_type": "code",
   "execution_count": 2,
   "metadata": {},
   "outputs": [],
   "source": [
    "# Cargar modelos\n",
    "from api.distritos.models import Distrito\n",
    "from api.autoridades.models import Autoridad\n",
    "from api.abogados.models import Abogado\n",
    "from api.peritos.models import Perito\n",
    "from api.edictos.models import Edicto\n",
    "from api.listas_de_acuerdos.models import ListaDeAcuerdo\n",
    "from api.sentencias.models import Sentencia\n",
    "from api.ubicaciones_expedientes.models import UbicacionExpediente"
   ]
  },
  {
   "cell_type": "code",
   "execution_count": 3,
   "metadata": {},
   "outputs": [
    {
     "output_type": "stream",
     "name": "stdout",
     "text": [
      "Administrativo\nConsejo de la Judicatura\nDistrito Judicial de Acuña\nDistrito Judicial de Monclova\nDistrito Judicial de Parras de la Fuente\nDistrito Judicial de Río Grande (Piedras Negras)\nDistrito Judicial de Sabinas\nDistrito Judicial de Saltillo\nDistrito Judicial de San Pedro de las Colonias\nDistrito Judicial de Torreón\nÓrganos Especializados\nÓrganos Jurisdiccionales\nÓrganos No Jurisdiccionales\nPleno del Tribunal Constitucional\nPleno del Tribunal Superior de Justicia\nPresidencia\nSalas\nTribunales Distritales\n"
     ]
    }
   ],
   "source": [
    "# Consultar Distritos\n",
    "with session_local() as db:\n",
    "    for distrito in db.query(Distrito).order_by(Distrito.nombre).all():\n",
    "        print(distrito.nombre)"
   ]
  },
  {
   "cell_type": "code",
   "execution_count": 7,
   "metadata": {
    "tags": []
   },
   "outputs": [
    {
     "output_type": "stream",
     "name": "stdout",
     "text": [
      "Distrito Judicial de Acuña ALCAZAR GARCIA GUILLERMO GIBAR ARBITRO\nDistrito Judicial de Acuña ALCAZAR GARCIA GUILLERMO GIBAR TUTORES\nDistrito Judicial de Acuña FRAYJO RAMIREZ SONIA RAMOS VALUACION\nDistrito Judicial de Acuña GALVAN ORTIZ GUADALUPE TUTORES\nDistrito Judicial de Acuña GONZALES SILVA CARLOS GUILLERMO TRADUCCION\nDistrito Judicial de Acuña JOSE CANO JORGE SALVADOR TRADUCCION\nDistrito Judicial de Acuña MALTOS GONZALEZ ANA VERONICA TRADUCCION\nDistrito Judicial de Acuña RAMOS CASILLAS JOSE LUIS BOGARD AMBIENTAL\nDistrito Judicial de Acuña RAMOS ESPINOSA FRANCISCO JAVIER CONTABILIDAD\nDistrito Judicial de Acuña TANAKA CERVANTES DORA EDILIA TRADUCCION\nDistrito Judicial de Acuña TREVINO CAMPOS RAUL EDUARDO TRADUCCION\nDistrito Judicial de Acuña TREVINO CAMPOS RICARDO ANTONIO TRADUCCION\nDistrito Judicial de Monclova ARRIAGA GUEVARA JUAN JESUS CRIMINALISTICA\nDistrito Judicial de Monclova ARRIAGA GUEVARA JUAN JESUS CRIMINALISTICA\nDistrito Judicial de Monclova ARRIAGA GUEVARA JUAN JESUS FOTOGRAFIA FORENSE\nDistrito Judicial de Monclova ARRIAGA GUEVARA JUAN JESUS TRANSITO Y VIALIDAD TERRESTRE\nDistrito Judicial de Monclova ARRIAGA GUEVARA JUAN JESUS VALUACION VEHICULOS DAÑADOS\nDistrito Judicial de Monclova ARRIAGA GUEVARA JUAN JESUS TRANSITO Y VIALIDAD TERRESTRE\nDistrito Judicial de Monclova ELIZONDO ORTIZ MONICA REGINA TRADUCCION\nDistrito Judicial de Monclova GAMBOA VIVEROS ELIZABETH VALUACION\nDistrito Judicial de Monclova GUERRERO MANZANARES HELIEN GISELLE TRADUCCION\nDistrito Judicial de Monclova HERNANDEZ SANDOVAL JESUS MANUEL TUTORES\nDistrito Judicial de Monclova LABORDE AGUIRRE MARIA DEL CARMEN TRADUCCION\nDistrito Judicial de Monclova LIZARRAGA CASTILLO GILBERTO TUTORES\nDistrito Judicial de Monclova MANCHA FLORES JORGE ROLANDO TUTORES\nDistrito Judicial de Monclova MARCOS SIWADY CARLOS ALEJANDRO MEDICINA\nDistrito Judicial de Monclova MARTINEZ CHARLES ALMA LETICIA TUTORES\nDistrito Judicial de Monclova MERCADO DAVILA RICARDO PSICOLOGIA\nDistrito Judicial de Monclova RAMOS ESPINOSA FRANCISCO JAVIER CONTABILIDAD\nDistrito Judicial de Monclova SAENZ TRISTAN JORGE ARIEL TRANSITO Y VIALIDAD TERRESTRE\nDistrito Judicial de Monclova SALAS ARREGUIN CARMEN ADRIANA VALUACION\nDistrito Judicial de Monclova TANAKA CERVANTES DORA EDILIA TRADUCCION\nDistrito Judicial de Parras de la Fuente LOPEZ GUTIERREZ FRANCISCO GRAFOSCOPIA\nDistrito Judicial de Parras de la Fuente LOPEZ GUTIERREZ FRANCISCO BALISTICA\nDistrito Judicial de Parras de la Fuente LOPEZ GUTIERREZ FRANCISCO ALBACEA\nDistrito Judicial de Parras de la Fuente LOPEZ GUTIERREZ FRANCISCO TRANSITO Y VIALIDAD TERRESTRE\nDistrito Judicial de Parras de la Fuente LOPEZ GUTIERREZ FRANCISCO FOTOGRAFIA\nDistrito Judicial de Parras de la Fuente LOPEZ GUTIERREZ FRANCISCO DOCUMENTOSCOPIA\nDistrito Judicial de Parras de la Fuente LOPEZ GUTIERREZ FRANCISCO DACTILOSCOPIA\nDistrito Judicial de Parras de la Fuente MARCOS SIWADY CARLOS ALEJANDRO MEDICINA\nDistrito Judicial de Parras de la Fuente MERCADO DAVILA RICARDO PSICOLOGIA\nDistrito Judicial de Río Grande (Piedras Negras) ELIZONDO GONZALEZ MONICA DEL CARMEN TRADUCCION\nDistrito Judicial de Río Grande (Piedras Negras) GONZALEZ MENA FRANCISCO TUTORES\nDistrito Judicial de Río Grande (Piedras Negras) JOSE CANO JORGE SALVADOR TRADUCCION\nDistrito Judicial de Río Grande (Piedras Negras) MALTOS GONZALEZ ANA VERONICA TRADUCCION\nDistrito Judicial de Río Grande (Piedras Negras) RAMOS ESPINOSA FRANCISCO JAVIER CONTABILIDAD\nDistrito Judicial de Río Grande (Piedras Negras) REYNA MORALES ISAURA PSICOLOGIA\nDistrito Judicial de Río Grande (Piedras Negras) SALAS ARREGUIN CARMEN ADRIANA VALUACION\nDistrito Judicial de Río Grande (Piedras Negras) SANCHEZ GARZA REGINALDO VALUACION\nDistrito Judicial de Río Grande (Piedras Negras) TANAKA CERVANTES DORA EDILIA TRADUCCION\n"
     ]
    }
   ],
   "source": [
    "# Consultar Peritos\n",
    "with session_local() as db:\n",
    "    for distrito, perito in db.query(Distrito, Perito).join(Distrito).filter(Perito.estatus == 'A').order_by(Distrito.nombre, Perito.nombre).limit(50).all():\n",
    "        print(distrito.nombre, perito.nombre, perito.tipo)"
   ]
  },
  {
   "cell_type": "code",
   "execution_count": null,
   "metadata": {},
   "outputs": [],
   "source": []
  }
 ]
}